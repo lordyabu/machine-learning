{
  "nbformat": 4,
  "nbformat_minor": 0,
  "metadata": {
    "colab": {
      "name": "CartPole.ipynb",
      "provenance": []
    },
    "kernelspec": {
      "name": "python3",
      "display_name": "Python 3"
    },
    "language_info": {
      "name": "python"
    }
  },
  "cells": [
    {
      "cell_type": "code",
      "source": [
        "import gym\n",
        "import os\n",
        "import numpy as np\n",
        "import matplotlib.pyplot as plt\n",
        "from IPython import display as ipythondisplay\n",
        "from stable_baselines3 import PPO\n",
        "from stable_baselines3.common.vec_env import DummyVecEnv\n",
        "from stable_baselines3.common.evaluation import evaluate_policy"
      ],
      "metadata": {
        "id": "GLYufKUglfnj"
      },
      "execution_count": null,
      "outputs": []
    },
    {
      "cell_type": "code",
      "source": [
        "from pyvirtualdisplay import Display\n",
        "display = Display(visible=0, size=(400, 300))\n",
        "display.start()"
      ],
      "metadata": {
        "colab": {
          "base_uri": "https://localhost:8080/"
        },
        "id": "QqDnY8H6lhXB",
        "outputId": "20e91b6b-6b91-457b-bccc-93d79152d890"
      },
      "execution_count": null,
      "outputs": [
        {
          "output_type": "execute_result",
          "data": {
            "text/plain": [
              "<pyvirtualdisplay.display.Display at 0x7f46ee91ac90>"
            ]
          },
          "metadata": {},
          "execution_count": 2
        }
      ]
    },
    {
      "cell_type": "code",
      "source": [
        "environment_name = 'CartPole-v0'\n",
        "env = gym.make(environment_name)"
      ],
      "metadata": {
        "id": "jTMa2Jkmmhcs"
      },
      "execution_count": null,
      "outputs": []
    },
    {
      "cell_type": "code",
      "source": [
        "env = gym.make(\"CartPole-v0\")\n",
        "env.reset()\n",
        "prev_screen = env.render(mode='rgb_array')\n",
        "plt.imshow(prev_screen)\n",
        "\n",
        "for i in range(50):\n",
        "  action = env.action_space.sample()\n",
        "  obs, reward, done, info = env.step(action)\n",
        "  screen = env.render(mode='rgb_array')\n",
        "  \n",
        "  plt.imshow(screen)\n",
        "  ipythondisplay.clear_output(wait=True)\n",
        "  ipythondisplay.display(plt.gcf())\n",
        "\n",
        "  if done:\n",
        "    break\n",
        "    \n",
        "ipythondisplay.clear_output(wait=True)\n",
        "env.close()"
      ],
      "metadata": {
        "colab": {
          "base_uri": "https://localhost:8080/",
          "height": 269
        },
        "id": "yyROvBGilptU",
        "outputId": "142e78e2-070a-4d87-b04e-bc5ff96bc04d"
      },
      "execution_count": null,
      "outputs": [
        {
          "output_type": "display_data",
          "data": {
            "text/plain": [
              "<Figure size 432x288 with 1 Axes>"
            ],
            "image/png": "[encoded data removed]"
          },
          "metadata": {
            "needs_background": "light"
          }
        }
      ]
    },
    {
      "cell_type": "code",
      "source": [
        "episodes = 5\n",
        "for episode in range(1, episodes+1):\n",
        "  state = env.reset()\n",
        "  done = Falsescore = 0\n",
        "  score = 0\n",
        "\n",
        "  while not done:\n",
        "    env.render()\n",
        "    action = env.action_space.sample()\n",
        "    n_state, reward, done, info = env.step(action)\n",
        "    score += reward\n",
        "  print('Episode:{} Score:{}'.format(episode, score))\n",
        "env.close()"
      ],
      "metadata": {
        "colab": {
          "base_uri": "https://localhost:8080/"
        },
        "id": "JYGsk_RhmAQ9",
        "outputId": "72eaccaa-28fd-4278-f85f-69bea3e77e0b"
      },
      "execution_count": null,
      "outputs": [
        {
          "output_type": "stream",
          "name": "stdout",
          "text": [
            "Episode:1 Score:18.0\n",
            "Episode:2 Score:17.0\n",
            "Episode:3 Score:19.0\n",
            "Episode:4 Score:25.0\n",
            "Episode:5 Score:18.0\n"
          ]
        }
      ]
    },
    {
      "cell_type": "code",
      "source": [
        "log_path = os.path.join('Training', 'Logs')"
      ],
      "metadata": {
        "id": "T7xOKz_imHar"
      },
      "execution_count": null,
      "outputs": []
    },
    {
      "cell_type": "code",
      "source": [
        "env = gym.make(environment_name)\n",
        "env = DummyVecEnv([lambda: env])\n",
        "model = PPO('MlpPolicy', env, verbose=1, tensorboard_log=log_path)  "
      ],
      "metadata": {
        "colab": {
          "base_uri": "https://localhost:8080/"
        },
        "id": "vLXzjT08mdQ6",
        "outputId": "afee2e4b-eb7f-44a2-efa1-32d0d7a6df86"
      },
      "execution_count": null,
      "outputs": [
        {
          "output_type": "stream",
          "name": "stdout",
          "text": [
            "Using cpu device\n"
          ]
        }
      ]
    },
    {
      "cell_type": "code",
      "source": [
        "model.learn(total_timesteps=20000)"
      ],
      "metadata": {
        "colab": {
          "base_uri": "https://localhost:8080/"
        },
        "id": "7ds45-CEnArl",
        "outputId": "12bfed52-a27e-44d6-bca9-c3551d2f2ee8"
      },
      "execution_count": null,
      "outputs": [
        {
          "output_type": "stream",
          "name": "stdout",
          "text": [
            "Logging to Training/Logs/PPO_1\n",
            "-----------------------------\n",
            "| time/              |      |\n",
            "|    fps             | 508  |\n",
            "|    iterations      | 1    |\n",
            "|    time_elapsed    | 4    |\n",
            "|    total_timesteps | 2048 |\n",
            "-----------------------------\n",
            "------------------------------------------\n",
            "| time/                   |              |\n",
            "|    fps                  | 638          |\n",
            "|    iterations           | 2            |\n",
            "|    time_elapsed         | 6            |\n",
            "|    total_timesteps      | 4096         |\n",
            "| train/                  |              |\n",
            "|    approx_kl            | 0.0081839785 |\n",
            "|    clip_fraction        | 0.085        |\n",
            "|    clip_range           | 0.2          |\n",
            "|    entropy_loss         | -0.687       |\n",
            "|    explained_variance   | -0.00237     |\n",
            "|    learning_rate        | 0.0003       |\n",
            "|    loss                 | 6.3          |\n",
            "|    n_updates            | 10           |\n",
            "|    policy_gradient_loss | -0.0128      |\n",
            "|    value_loss           | 44.2         |\n",
            "------------------------------------------\n",
            "-----------------------------------------\n",
            "| time/                   |             |\n",
            "|    fps                  | 699         |\n",
            "|    iterations           | 3           |\n",
            "|    time_elapsed         | 8           |\n",
            "|    total_timesteps      | 6144        |\n",
            "| train/                  |             |\n",
            "|    approx_kl            | 0.009352536 |\n",
            "|    clip_fraction        | 0.0625      |\n",
            "|    clip_range           | 0.2         |\n",
            "|    entropy_loss         | -0.669      |\n",
            "|    explained_variance   | 0.095       |\n",
            "|    learning_rate        | 0.0003      |\n",
            "|    loss                 | 15          |\n",
            "|    n_updates            | 20          |\n",
            "|    policy_gradient_loss | -0.0166     |\n",
            "|    value_loss           | 36.3        |\n",
            "-----------------------------------------\n",
            "------------------------------------------\n",
            "| time/                   |              |\n",
            "|    fps                  | 730          |\n",
            "|    iterations           | 4            |\n",
            "|    time_elapsed         | 11           |\n",
            "|    total_timesteps      | 8192         |\n",
            "| train/                  |              |\n",
            "|    approx_kl            | 0.0056258375 |\n",
            "|    clip_fraction        | 0.0563       |\n",
            "|    clip_range           | 0.2          |\n",
            "|    entropy_loss         | -0.645       |\n",
            "|    explained_variance   | 0.19         |\n",
            "|    learning_rate        | 0.0003       |\n",
            "|    loss                 | 24.4         |\n",
            "|    n_updates            | 30           |\n",
            "|    policy_gradient_loss | -0.0142      |\n",
            "|    value_loss           | 54           |\n",
            "------------------------------------------\n",
            "-----------------------------------------\n",
            "| time/                   |             |\n",
            "|    fps                  | 754         |\n",
            "|    iterations           | 5           |\n",
            "|    time_elapsed         | 13          |\n",
            "|    total_timesteps      | 10240       |\n",
            "| train/                  |             |\n",
            "|    approx_kl            | 0.008759533 |\n",
            "|    clip_fraction        | 0.0828      |\n",
            "|    clip_range           | 0.2         |\n",
            "|    entropy_loss         | -0.609      |\n",
            "|    explained_variance   | 0.284       |\n",
            "|    learning_rate        | 0.0003      |\n",
            "|    loss                 | 22.2        |\n",
            "|    n_updates            | 40          |\n",
            "|    policy_gradient_loss | -0.0184     |\n",
            "|    value_loss           | 65.5        |\n",
            "-----------------------------------------\n",
            "-----------------------------------------\n",
            "| time/                   |             |\n",
            "|    fps                  | 772         |\n",
            "|    iterations           | 6           |\n",
            "|    time_elapsed         | 15          |\n",
            "|    total_timesteps      | 12288       |\n",
            "| train/                  |             |\n",
            "|    approx_kl            | 0.010813982 |\n",
            "|    clip_fraction        | 0.0825      |\n",
            "|    clip_range           | 0.2         |\n",
            "|    entropy_loss         | -0.599      |\n",
            "|    explained_variance   | 0.478       |\n",
            "|    learning_rate        | 0.0003      |\n",
            "|    loss                 | 20.3        |\n",
            "|    n_updates            | 50          |\n",
            "|    policy_gradient_loss | -0.0142     |\n",
            "|    value_loss           | 55.7        |\n",
            "-----------------------------------------\n",
            "-----------------------------------------\n",
            "| time/                   |             |\n",
            "|    fps                  | 785         |\n",
            "|    iterations           | 7           |\n",
            "|    time_elapsed         | 18          |\n",
            "|    total_timesteps      | 14336       |\n",
            "| train/                  |             |\n",
            "|    approx_kl            | 0.005537953 |\n",
            "|    clip_fraction        | 0.0679      |\n",
            "|    clip_range           | 0.2         |\n",
            "|    entropy_loss         | -0.595      |\n",
            "|    explained_variance   | 0.649       |\n",
            "|    learning_rate        | 0.0003      |\n",
            "|    loss                 | 14.2        |\n",
            "|    n_updates            | 60          |\n",
            "|    policy_gradient_loss | -0.0116     |\n",
            "|    value_loss           | 50.1        |\n",
            "-----------------------------------------\n",
            "-----------------------------------------\n",
            "| time/                   |             |\n",
            "|    fps                  | 794         |\n",
            "|    iterations           | 8           |\n",
            "|    time_elapsed         | 20          |\n",
            "|    total_timesteps      | 16384       |\n",
            "| train/                  |             |\n",
            "|    approx_kl            | 0.008426044 |\n",
            "|    clip_fraction        | 0.0937      |\n",
            "|    clip_range           | 0.2         |\n",
            "|    entropy_loss         | -0.586      |\n",
            "|    explained_variance   | 0.769       |\n",
            "|    learning_rate        | 0.0003      |\n",
            "|    loss                 | 13.9        |\n",
            "|    n_updates            | 70          |\n",
            "|    policy_gradient_loss | -0.0155     |\n",
            "|    value_loss           | 36.1        |\n",
            "-----------------------------------------\n",
            "-----------------------------------------\n",
            "| time/                   |             |\n",
            "|    fps                  | 801         |\n",
            "|    iterations           | 9           |\n",
            "|    time_elapsed         | 22          |\n",
            "|    total_timesteps      | 18432       |\n",
            "| train/                  |             |\n",
            "|    approx_kl            | 0.008592874 |\n",
            "|    clip_fraction        | 0.0668      |\n",
            "|    clip_range           | 0.2         |\n",
            "|    entropy_loss         | -0.574      |\n",
            "|    explained_variance   | 0.673       |\n",
            "|    learning_rate        | 0.0003      |\n",
            "|    loss                 | 15.9        |\n",
            "|    n_updates            | 80          |\n",
            "|    policy_gradient_loss | -0.0123     |\n",
            "|    value_loss           | 50.7        |\n",
            "-----------------------------------------\n",
            "------------------------------------------\n",
            "| time/                   |              |\n",
            "|    fps                  | 808          |\n",
            "|    iterations           | 10           |\n",
            "|    time_elapsed         | 25           |\n",
            "|    total_timesteps      | 20480        |\n",
            "| train/                  |              |\n",
            "|    approx_kl            | 0.0076303743 |\n",
            "|    clip_fraction        | 0.0654       |\n",
            "|    clip_range           | 0.2          |\n",
            "|    entropy_loss         | -0.577       |\n",
            "|    explained_variance   | 0.737        |\n",
            "|    learning_rate        | 0.0003       |\n",
            "|    loss                 | 6.64         |\n",
            "|    n_updates            | 90           |\n",
            "|    policy_gradient_loss | -0.0086      |\n",
            "|    value_loss           | 25.3         |\n",
            "------------------------------------------\n"
          ]
        },
        {
          "output_type": "execute_result",
          "data": {
            "text/plain": [
              "<stable_baselines3.ppo.ppo.PPO at 0x7f46e1aefe50>"
            ]
          },
          "metadata": {},
          "execution_count": 8
        }
      ]
    },
    {
      "cell_type": "code",
      "source": [
        "model.save(\"my_model_cart_pole\")"
      ],
      "metadata": {
        "id": "sGrNoPKgnmpm"
      },
      "execution_count": null,
      "outputs": []
    },
    {
      "cell_type": "code",
      "source": [
        "episodes = 5\n",
        "for episode in range(1, episodes+1):\n",
        "  obs = env.reset()\n",
        "  done = False\n",
        "  score = 0\n",
        "\n",
        "  while not done:\n",
        "    env.render()\n",
        "    action, _ = model.predict(obs)\n",
        "    obs, reward, done, info = env.step(action)\n",
        "    score += reward\n",
        "  print('Episode:{} Score:{}'.format(episode, score))\n",
        "env.close()"
      ],
      "metadata": {
        "colab": {
          "base_uri": "https://localhost:8080/"
        },
        "id": "_GtFxhxopJ6V",
        "outputId": "b30ed0d8-8699-462b-b6c7-7b46be9615f2"
      },
      "execution_count": 21,
      "outputs": [
        {
          "output_type": "stream",
          "name": "stdout",
          "text": [
            "Episode:1 Score:[200.]\n",
            "Episode:2 Score:[200.]\n",
            "Episode:3 Score:[200.]\n",
            "Episode:4 Score:[200.]\n",
            "Episode:5 Score:[200.]\n"
          ]
        }
      ]
    }
  ]
}